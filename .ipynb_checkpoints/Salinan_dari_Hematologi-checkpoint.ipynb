{
 "cells": [
  {
   "cell_type": "code",
   "execution_count": null,
   "metadata": {
    "colab": {
     "base_uri": "https://localhost:8080/",
     "height": 234
    },
    "id": "TdSlEJNTFRz6",
    "outputId": "a1e49379-45fe-4d3b-f6c1-503fc1eae2e8"
   },
   "outputs": [
    {
     "name": "stdout",
     "output_type": "stream",
     "text": [
      "Requirement already satisfied: anvil-uplink in /usr/local/lib/python3.7/dist-packages (0.3.39)\n",
      "Requirement already satisfied: six in /usr/local/lib/python3.7/dist-packages (from anvil-uplink) (1.15.0)\n",
      "Collecting argparse\n",
      "  Using cached argparse-1.4.0-py2.py3-none-any.whl (23 kB)\n",
      "Requirement already satisfied: ws4py in /usr/local/lib/python3.7/dist-packages (from anvil-uplink) (0.5.1)\n",
      "Requirement already satisfied: future in /usr/local/lib/python3.7/dist-packages (from anvil-uplink) (0.16.0)\n",
      "Installing collected packages: argparse\n",
      "Successfully installed argparse-1.4.0\n"
     ]
    },
    {
     "data": {
      "application/vnd.colab-display-data+json": {
       "pip_warning": {
        "packages": [
         "argparse"
        ]
       }
      }
     },
     "metadata": {},
     "output_type": "display_data"
    }
   ],
   "source": [
    "!pip install anvil-uplink"
   ]
  },
  {
   "cell_type": "code",
   "execution_count": null,
   "metadata": {
    "id": "srVhCXN9FVzn"
   },
   "outputs": [],
   "source": [
    "import anvil.server"
   ]
  },
  {
   "cell_type": "code",
   "execution_count": null,
   "metadata": {
    "id": "XOwDn61BFeYG"
   },
   "outputs": [],
   "source": [
    "anvil.server.connect(\"3KITMXYEJI3VFHCUMEZ2EVBF-MAN4LYQX24UKAMMD\")"
   ]
  },
  {
   "cell_type": "code",
   "execution_count": 1,
   "metadata": {
    "id": "aSuL57TyO0bC"
   },
   "outputs": [],
   "source": [
    "import pandas as pd"
   ]
  },
  {
   "cell_type": "code",
   "execution_count": 2,
   "metadata": {
    "colab": {
     "base_uri": "https://localhost:8080/",
     "height": 202
    },
    "id": "XLd5VRt2Fhli",
    "outputId": "38aa6b75-8f30-4dba-bb9d-621bafae0a94"
   },
   "outputs": [
    {
     "data": {
      "text/html": [
       "<div>\n",
       "<style scoped>\n",
       "    .dataframe tbody tr th:only-of-type {\n",
       "        vertical-align: middle;\n",
       "    }\n",
       "\n",
       "    .dataframe tbody tr th {\n",
       "        vertical-align: top;\n",
       "    }\n",
       "\n",
       "    .dataframe thead th {\n",
       "        text-align: right;\n",
       "    }\n",
       "</style>\n",
       "<table border=\"1\" class=\"dataframe\">\n",
       "  <thead>\n",
       "    <tr style=\"text-align: right;\">\n",
       "      <th></th>\n",
       "      <th>haematocrit</th>\n",
       "      <th>haemoglobin</th>\n",
       "      <th>erythrocyte</th>\n",
       "      <th>leucocyte</th>\n",
       "      <th>thrombocyte</th>\n",
       "      <th>mch</th>\n",
       "      <th>mchc</th>\n",
       "      <th>mcv</th>\n",
       "      <th>sex</th>\n",
       "      <th>source</th>\n",
       "    </tr>\n",
       "  </thead>\n",
       "  <tbody>\n",
       "    <tr>\n",
       "      <th>0</th>\n",
       "      <td>normal</td>\n",
       "      <td>rendah</td>\n",
       "      <td>normal</td>\n",
       "      <td>normal</td>\n",
       "      <td>normal</td>\n",
       "      <td>rendah</td>\n",
       "      <td>normal</td>\n",
       "      <td>rendah</td>\n",
       "      <td>f</td>\n",
       "      <td>out</td>\n",
       "    </tr>\n",
       "    <tr>\n",
       "      <th>1</th>\n",
       "      <td>normal</td>\n",
       "      <td>normal</td>\n",
       "      <td>normal</td>\n",
       "      <td>tinggi</td>\n",
       "      <td>normal</td>\n",
       "      <td>normal</td>\n",
       "      <td>normal</td>\n",
       "      <td>normal</td>\n",
       "      <td>f</td>\n",
       "      <td>out</td>\n",
       "    </tr>\n",
       "    <tr>\n",
       "      <th>2</th>\n",
       "      <td>rendah</td>\n",
       "      <td>rendah</td>\n",
       "      <td>normal</td>\n",
       "      <td>tinggi</td>\n",
       "      <td>normal</td>\n",
       "      <td>rendah</td>\n",
       "      <td>normal</td>\n",
       "      <td>rendah</td>\n",
       "      <td>f</td>\n",
       "      <td>out</td>\n",
       "    </tr>\n",
       "    <tr>\n",
       "      <th>3</th>\n",
       "      <td>normal</td>\n",
       "      <td>normal</td>\n",
       "      <td>normal</td>\n",
       "      <td>normal</td>\n",
       "      <td>normal</td>\n",
       "      <td>normal</td>\n",
       "      <td>normal</td>\n",
       "      <td>rendah</td>\n",
       "      <td>f</td>\n",
       "      <td>out</td>\n",
       "    </tr>\n",
       "    <tr>\n",
       "      <th>4</th>\n",
       "      <td>rendah</td>\n",
       "      <td>rendah</td>\n",
       "      <td>normal</td>\n",
       "      <td>tinggi</td>\n",
       "      <td>normal</td>\n",
       "      <td>rendah</td>\n",
       "      <td>rendah</td>\n",
       "      <td>rendah</td>\n",
       "      <td>f</td>\n",
       "      <td>out</td>\n",
       "    </tr>\n",
       "  </tbody>\n",
       "</table>\n",
       "</div>"
      ],
      "text/plain": [
       "  haematocrit haemoglobin erythrocyte leucocyte thrombocyte     mch    mchc  \\\n",
       "0      normal      rendah      normal    normal      normal  rendah  normal   \n",
       "1      normal      normal      normal    tinggi      normal  normal  normal   \n",
       "2      rendah      rendah      normal    tinggi      normal  rendah  normal   \n",
       "3      normal      normal      normal    normal      normal  normal  normal   \n",
       "4      rendah      rendah      normal    tinggi      normal  rendah  rendah   \n",
       "\n",
       "      mcv sex source  \n",
       "0  rendah   f    out  \n",
       "1  normal   f    out  \n",
       "2  rendah   f    out  \n",
       "3  rendah   f    out  \n",
       "4  rendah   f    out  "
      ]
     },
     "execution_count": 2,
     "metadata": {},
     "output_type": "execute_result"
    }
   ],
   "source": [
    "df_patient = pd.read_csv('dataset-fix.csv')\n",
    "df_patient.head()"
   ]
  },
  {
   "cell_type": "code",
   "execution_count": 3,
   "metadata": {
    "colab": {
     "base_uri": "https://localhost:8080/"
    },
    "id": "6neXpH7bQjzF",
    "outputId": "955b40ca-a9d4-4dee-9163-4b894a6ae1cb"
   },
   "outputs": [
    {
     "data": {
      "text/plain": [
       "(4412, 10)"
      ]
     },
     "execution_count": 3,
     "metadata": {},
     "output_type": "execute_result"
    }
   ],
   "source": [
    "df_patient.shape"
   ]
  },
  {
   "cell_type": "code",
   "execution_count": 4,
   "metadata": {
    "colab": {
     "base_uri": "https://localhost:8080/",
     "height": 171
    },
    "id": "7wazuBT4Qn1S",
    "outputId": "a48db043-d586-4ba7-c08f-a02ff2a0bbc8"
   },
   "outputs": [
    {
     "data": {
      "text/html": [
       "<div>\n",
       "<style scoped>\n",
       "    .dataframe tbody tr th:only-of-type {\n",
       "        vertical-align: middle;\n",
       "    }\n",
       "\n",
       "    .dataframe tbody tr th {\n",
       "        vertical-align: top;\n",
       "    }\n",
       "\n",
       "    .dataframe thead th {\n",
       "        text-align: right;\n",
       "    }\n",
       "</style>\n",
       "<table border=\"1\" class=\"dataframe\">\n",
       "  <thead>\n",
       "    <tr style=\"text-align: right;\">\n",
       "      <th></th>\n",
       "      <th>haematocrit</th>\n",
       "      <th>haemoglobin</th>\n",
       "      <th>erythrocyte</th>\n",
       "      <th>leucocyte</th>\n",
       "      <th>thrombocyte</th>\n",
       "      <th>mch</th>\n",
       "      <th>mchc</th>\n",
       "      <th>mcv</th>\n",
       "      <th>sex</th>\n",
       "      <th>source</th>\n",
       "    </tr>\n",
       "  </thead>\n",
       "  <tbody>\n",
       "    <tr>\n",
       "      <th>count</th>\n",
       "      <td>4412</td>\n",
       "      <td>4412</td>\n",
       "      <td>4412</td>\n",
       "      <td>4412</td>\n",
       "      <td>4412</td>\n",
       "      <td>4412</td>\n",
       "      <td>4412</td>\n",
       "      <td>4412</td>\n",
       "      <td>4412</td>\n",
       "      <td>4412</td>\n",
       "    </tr>\n",
       "    <tr>\n",
       "      <th>unique</th>\n",
       "      <td>3</td>\n",
       "      <td>3</td>\n",
       "      <td>3</td>\n",
       "      <td>3</td>\n",
       "      <td>3</td>\n",
       "      <td>3</td>\n",
       "      <td>3</td>\n",
       "      <td>3</td>\n",
       "      <td>2</td>\n",
       "      <td>2</td>\n",
       "    </tr>\n",
       "    <tr>\n",
       "      <th>top</th>\n",
       "      <td>normal</td>\n",
       "      <td>normal</td>\n",
       "      <td>normal</td>\n",
       "      <td>normal</td>\n",
       "      <td>normal</td>\n",
       "      <td>normal</td>\n",
       "      <td>normal</td>\n",
       "      <td>normal</td>\n",
       "      <td>m</td>\n",
       "      <td>out</td>\n",
       "    </tr>\n",
       "    <tr>\n",
       "      <th>freq</th>\n",
       "      <td>2678</td>\n",
       "      <td>2617</td>\n",
       "      <td>3271</td>\n",
       "      <td>3040</td>\n",
       "      <td>3476</td>\n",
       "      <td>3687</td>\n",
       "      <td>3832</td>\n",
       "      <td>3551</td>\n",
       "      <td>2290</td>\n",
       "      <td>2628</td>\n",
       "    </tr>\n",
       "  </tbody>\n",
       "</table>\n",
       "</div>"
      ],
      "text/plain": [
       "       haematocrit haemoglobin erythrocyte leucocyte thrombocyte     mch  \\\n",
       "count         4412        4412        4412      4412        4412    4412   \n",
       "unique           3           3           3         3           3       3   \n",
       "top         normal      normal      normal    normal      normal  normal   \n",
       "freq          2678        2617        3271      3040        3476    3687   \n",
       "\n",
       "          mchc     mcv   sex source  \n",
       "count     4412    4412  4412   4412  \n",
       "unique       3       3     2      2  \n",
       "top     normal  normal     m    out  \n",
       "freq      3832    3551  2290   2628  "
      ]
     },
     "execution_count": 4,
     "metadata": {},
     "output_type": "execute_result"
    }
   ],
   "source": [
    "df_patient.describe()"
   ]
  },
  {
   "cell_type": "code",
   "execution_count": 5,
   "metadata": {
    "colab": {
     "base_uri": "https://localhost:8080/"
    },
    "id": "q8x9i599Qt8g",
    "outputId": "93f4b052-b84a-4ba5-a240-2d205865be6b"
   },
   "outputs": [
    {
     "name": "stdout",
     "output_type": "stream",
     "text": [
      "<class 'pandas.core.frame.DataFrame'>\n",
      "RangeIndex: 4412 entries, 0 to 4411\n",
      "Data columns (total 10 columns):\n",
      " #   Column       Non-Null Count  Dtype \n",
      "---  ------       --------------  ----- \n",
      " 0   haematocrit  4412 non-null   object\n",
      " 1   haemoglobin  4412 non-null   object\n",
      " 2   erythrocyte  4412 non-null   object\n",
      " 3   leucocyte    4412 non-null   object\n",
      " 4   thrombocyte  4412 non-null   object\n",
      " 5   mch          4412 non-null   object\n",
      " 6   mchc         4412 non-null   object\n",
      " 7   mcv          4412 non-null   object\n",
      " 8   sex          4412 non-null   object\n",
      " 9   source       4412 non-null   object\n",
      "dtypes: object(10)\n",
      "memory usage: 344.8+ KB\n"
     ]
    }
   ],
   "source": [
    "df_patient.info()"
   ]
  },
  {
   "cell_type": "code",
   "execution_count": 6,
   "metadata": {
    "colab": {
     "base_uri": "https://localhost:8080/",
     "height": 414
    },
    "id": "TAR8lga6Q7ll",
    "outputId": "fd42ef4c-201d-41ac-d36d-b158e714104d"
   },
   "outputs": [
    {
     "data": {
      "text/html": [
       "<div>\n",
       "<style scoped>\n",
       "    .dataframe tbody tr th:only-of-type {\n",
       "        vertical-align: middle;\n",
       "    }\n",
       "\n",
       "    .dataframe tbody tr th {\n",
       "        vertical-align: top;\n",
       "    }\n",
       "\n",
       "    .dataframe thead th {\n",
       "        text-align: right;\n",
       "    }\n",
       "</style>\n",
       "<table border=\"1\" class=\"dataframe\">\n",
       "  <thead>\n",
       "    <tr style=\"text-align: right;\">\n",
       "      <th></th>\n",
       "      <th>haematocrit</th>\n",
       "      <th>haemoglobin</th>\n",
       "      <th>erythrocyte</th>\n",
       "      <th>leucocyte</th>\n",
       "      <th>thrombocyte</th>\n",
       "      <th>mch</th>\n",
       "      <th>mchc</th>\n",
       "      <th>mcv</th>\n",
       "      <th>sex</th>\n",
       "      <th>source</th>\n",
       "    </tr>\n",
       "  </thead>\n",
       "  <tbody>\n",
       "    <tr>\n",
       "      <th>0</th>\n",
       "      <td>False</td>\n",
       "      <td>False</td>\n",
       "      <td>False</td>\n",
       "      <td>False</td>\n",
       "      <td>False</td>\n",
       "      <td>False</td>\n",
       "      <td>False</td>\n",
       "      <td>False</td>\n",
       "      <td>False</td>\n",
       "      <td>False</td>\n",
       "    </tr>\n",
       "    <tr>\n",
       "      <th>1</th>\n",
       "      <td>False</td>\n",
       "      <td>False</td>\n",
       "      <td>False</td>\n",
       "      <td>False</td>\n",
       "      <td>False</td>\n",
       "      <td>False</td>\n",
       "      <td>False</td>\n",
       "      <td>False</td>\n",
       "      <td>False</td>\n",
       "      <td>False</td>\n",
       "    </tr>\n",
       "    <tr>\n",
       "      <th>2</th>\n",
       "      <td>False</td>\n",
       "      <td>False</td>\n",
       "      <td>False</td>\n",
       "      <td>False</td>\n",
       "      <td>False</td>\n",
       "      <td>False</td>\n",
       "      <td>False</td>\n",
       "      <td>False</td>\n",
       "      <td>False</td>\n",
       "      <td>False</td>\n",
       "    </tr>\n",
       "    <tr>\n",
       "      <th>3</th>\n",
       "      <td>False</td>\n",
       "      <td>False</td>\n",
       "      <td>False</td>\n",
       "      <td>False</td>\n",
       "      <td>False</td>\n",
       "      <td>False</td>\n",
       "      <td>False</td>\n",
       "      <td>False</td>\n",
       "      <td>False</td>\n",
       "      <td>False</td>\n",
       "    </tr>\n",
       "    <tr>\n",
       "      <th>4</th>\n",
       "      <td>False</td>\n",
       "      <td>False</td>\n",
       "      <td>False</td>\n",
       "      <td>False</td>\n",
       "      <td>False</td>\n",
       "      <td>False</td>\n",
       "      <td>False</td>\n",
       "      <td>False</td>\n",
       "      <td>False</td>\n",
       "      <td>False</td>\n",
       "    </tr>\n",
       "    <tr>\n",
       "      <th>...</th>\n",
       "      <td>...</td>\n",
       "      <td>...</td>\n",
       "      <td>...</td>\n",
       "      <td>...</td>\n",
       "      <td>...</td>\n",
       "      <td>...</td>\n",
       "      <td>...</td>\n",
       "      <td>...</td>\n",
       "      <td>...</td>\n",
       "      <td>...</td>\n",
       "    </tr>\n",
       "    <tr>\n",
       "      <th>4407</th>\n",
       "      <td>False</td>\n",
       "      <td>False</td>\n",
       "      <td>False</td>\n",
       "      <td>False</td>\n",
       "      <td>False</td>\n",
       "      <td>False</td>\n",
       "      <td>False</td>\n",
       "      <td>False</td>\n",
       "      <td>False</td>\n",
       "      <td>False</td>\n",
       "    </tr>\n",
       "    <tr>\n",
       "      <th>4408</th>\n",
       "      <td>False</td>\n",
       "      <td>False</td>\n",
       "      <td>False</td>\n",
       "      <td>False</td>\n",
       "      <td>False</td>\n",
       "      <td>False</td>\n",
       "      <td>False</td>\n",
       "      <td>False</td>\n",
       "      <td>False</td>\n",
       "      <td>False</td>\n",
       "    </tr>\n",
       "    <tr>\n",
       "      <th>4409</th>\n",
       "      <td>False</td>\n",
       "      <td>False</td>\n",
       "      <td>False</td>\n",
       "      <td>False</td>\n",
       "      <td>False</td>\n",
       "      <td>False</td>\n",
       "      <td>False</td>\n",
       "      <td>False</td>\n",
       "      <td>False</td>\n",
       "      <td>False</td>\n",
       "    </tr>\n",
       "    <tr>\n",
       "      <th>4410</th>\n",
       "      <td>False</td>\n",
       "      <td>False</td>\n",
       "      <td>False</td>\n",
       "      <td>False</td>\n",
       "      <td>False</td>\n",
       "      <td>False</td>\n",
       "      <td>False</td>\n",
       "      <td>False</td>\n",
       "      <td>False</td>\n",
       "      <td>False</td>\n",
       "    </tr>\n",
       "    <tr>\n",
       "      <th>4411</th>\n",
       "      <td>False</td>\n",
       "      <td>False</td>\n",
       "      <td>False</td>\n",
       "      <td>False</td>\n",
       "      <td>False</td>\n",
       "      <td>False</td>\n",
       "      <td>False</td>\n",
       "      <td>False</td>\n",
       "      <td>False</td>\n",
       "      <td>False</td>\n",
       "    </tr>\n",
       "  </tbody>\n",
       "</table>\n",
       "<p>4412 rows × 10 columns</p>\n",
       "</div>"
      ],
      "text/plain": [
       "      haematocrit  haemoglobin  erythrocyte  leucocyte  thrombocyte    mch  \\\n",
       "0           False        False        False      False        False  False   \n",
       "1           False        False        False      False        False  False   \n",
       "2           False        False        False      False        False  False   \n",
       "3           False        False        False      False        False  False   \n",
       "4           False        False        False      False        False  False   \n",
       "...           ...          ...          ...        ...          ...    ...   \n",
       "4407        False        False        False      False        False  False   \n",
       "4408        False        False        False      False        False  False   \n",
       "4409        False        False        False      False        False  False   \n",
       "4410        False        False        False      False        False  False   \n",
       "4411        False        False        False      False        False  False   \n",
       "\n",
       "       mchc    mcv    sex  source  \n",
       "0     False  False  False   False  \n",
       "1     False  False  False   False  \n",
       "2     False  False  False   False  \n",
       "3     False  False  False   False  \n",
       "4     False  False  False   False  \n",
       "...     ...    ...    ...     ...  \n",
       "4407  False  False  False   False  \n",
       "4408  False  False  False   False  \n",
       "4409  False  False  False   False  \n",
       "4410  False  False  False   False  \n",
       "4411  False  False  False   False  \n",
       "\n",
       "[4412 rows x 10 columns]"
      ]
     },
     "execution_count": 6,
     "metadata": {},
     "output_type": "execute_result"
    }
   ],
   "source": [
    "df_patient.isnull()"
   ]
  },
  {
   "cell_type": "code",
   "execution_count": 7,
   "metadata": {
    "id": "KVmlSP0XQ_Yg"
   },
   "outputs": [],
   "source": [
    "from sklearn.preprocessing import LabelEncoder\n",
    "encoded = LabelEncoder()\n",
    "# df_patient['sex'] = encoded.fit_transform(df_patient['sex'].values)"
   ]
  },
  {
   "cell_type": "code",
   "execution_count": null,
   "metadata": {
    "id": "N7juS1JMVRoD"
   },
   "outputs": [],
   "source": [
    "jkel = pd.get_dummies(df_patient['sex'])"
   ]
  },
  {
   "cell_type": "code",
   "execution_count": null,
   "metadata": {
    "colab": {
     "base_uri": "https://localhost:8080/",
     "height": 202
    },
    "id": "FLnLM1pSVUVJ",
    "outputId": "a3940289-2b67-4b50-96a9-58f092172bfd"
   },
   "outputs": [
    {
     "data": {
      "text/html": [
       "<div>\n",
       "<style scoped>\n",
       "    .dataframe tbody tr th:only-of-type {\n",
       "        vertical-align: middle;\n",
       "    }\n",
       "\n",
       "    .dataframe tbody tr th {\n",
       "        vertical-align: top;\n",
       "    }\n",
       "\n",
       "    .dataframe thead th {\n",
       "        text-align: right;\n",
       "    }\n",
       "</style>\n",
       "<table border=\"1\" class=\"dataframe\">\n",
       "  <thead>\n",
       "    <tr style=\"text-align: right;\">\n",
       "      <th></th>\n",
       "      <th>haematocrit</th>\n",
       "      <th>haemoglobin</th>\n",
       "      <th>erythrocyte</th>\n",
       "      <th>leucocyte</th>\n",
       "      <th>thrombocyte</th>\n",
       "      <th>mch</th>\n",
       "      <th>mchc</th>\n",
       "      <th>mcv</th>\n",
       "      <th>sex</th>\n",
       "      <th>source</th>\n",
       "      <th>f</th>\n",
       "      <th>m</th>\n",
       "    </tr>\n",
       "  </thead>\n",
       "  <tbody>\n",
       "    <tr>\n",
       "      <th>0</th>\n",
       "      <td>normal</td>\n",
       "      <td>rendah</td>\n",
       "      <td>normal</td>\n",
       "      <td>normal</td>\n",
       "      <td>normal</td>\n",
       "      <td>rendah</td>\n",
       "      <td>normal</td>\n",
       "      <td>rendah</td>\n",
       "      <td>f</td>\n",
       "      <td>out</td>\n",
       "      <td>1</td>\n",
       "      <td>0</td>\n",
       "    </tr>\n",
       "    <tr>\n",
       "      <th>1</th>\n",
       "      <td>normal</td>\n",
       "      <td>normal</td>\n",
       "      <td>normal</td>\n",
       "      <td>tinggi</td>\n",
       "      <td>normal</td>\n",
       "      <td>normal</td>\n",
       "      <td>normal</td>\n",
       "      <td>normal</td>\n",
       "      <td>f</td>\n",
       "      <td>out</td>\n",
       "      <td>1</td>\n",
       "      <td>0</td>\n",
       "    </tr>\n",
       "    <tr>\n",
       "      <th>2</th>\n",
       "      <td>rendah</td>\n",
       "      <td>rendah</td>\n",
       "      <td>normal</td>\n",
       "      <td>tinggi</td>\n",
       "      <td>normal</td>\n",
       "      <td>rendah</td>\n",
       "      <td>normal</td>\n",
       "      <td>rendah</td>\n",
       "      <td>f</td>\n",
       "      <td>out</td>\n",
       "      <td>1</td>\n",
       "      <td>0</td>\n",
       "    </tr>\n",
       "    <tr>\n",
       "      <th>3</th>\n",
       "      <td>normal</td>\n",
       "      <td>normal</td>\n",
       "      <td>normal</td>\n",
       "      <td>normal</td>\n",
       "      <td>normal</td>\n",
       "      <td>normal</td>\n",
       "      <td>normal</td>\n",
       "      <td>rendah</td>\n",
       "      <td>f</td>\n",
       "      <td>out</td>\n",
       "      <td>1</td>\n",
       "      <td>0</td>\n",
       "    </tr>\n",
       "    <tr>\n",
       "      <th>4</th>\n",
       "      <td>rendah</td>\n",
       "      <td>rendah</td>\n",
       "      <td>normal</td>\n",
       "      <td>tinggi</td>\n",
       "      <td>normal</td>\n",
       "      <td>rendah</td>\n",
       "      <td>rendah</td>\n",
       "      <td>rendah</td>\n",
       "      <td>f</td>\n",
       "      <td>out</td>\n",
       "      <td>1</td>\n",
       "      <td>0</td>\n",
       "    </tr>\n",
       "  </tbody>\n",
       "</table>\n",
       "</div>"
      ],
      "text/plain": [
       "  haematocrit haemoglobin erythrocyte leucocyte  ... sex source  f  m\n",
       "0      normal      rendah      normal    normal  ...   f    out  1  0\n",
       "1      normal      normal      normal    tinggi  ...   f    out  1  0\n",
       "2      rendah      rendah      normal    tinggi  ...   f    out  1  0\n",
       "3      normal      normal      normal    normal  ...   f    out  1  0\n",
       "4      rendah      rendah      normal    tinggi  ...   f    out  1  0\n",
       "\n",
       "[5 rows x 12 columns]"
      ]
     },
     "execution_count": 16,
     "metadata": {},
     "output_type": "execute_result"
    }
   ],
   "source": [
    "frames = [df_patient, jkel]\n",
    "df_patient = pd.concat(frames, axis = 1)\n",
    "df_patient.head()"
   ]
  },
  {
   "cell_type": "code",
   "execution_count": null,
   "metadata": {
    "colab": {
     "base_uri": "https://localhost:8080/",
     "height": 202
    },
    "id": "8C0069YRVXT9",
    "outputId": "4e895a93-17d8-42ab-f33f-93ad36a0843e"
   },
   "outputs": [
    {
     "data": {
      "text/html": [
       "<div>\n",
       "<style scoped>\n",
       "    .dataframe tbody tr th:only-of-type {\n",
       "        vertical-align: middle;\n",
       "    }\n",
       "\n",
       "    .dataframe tbody tr th {\n",
       "        vertical-align: top;\n",
       "    }\n",
       "\n",
       "    .dataframe thead th {\n",
       "        text-align: right;\n",
       "    }\n",
       "</style>\n",
       "<table border=\"1\" class=\"dataframe\">\n",
       "  <thead>\n",
       "    <tr style=\"text-align: right;\">\n",
       "      <th></th>\n",
       "      <th>haematocrit</th>\n",
       "      <th>haemoglobin</th>\n",
       "      <th>erythrocyte</th>\n",
       "      <th>leucocyte</th>\n",
       "      <th>thrombocyte</th>\n",
       "      <th>mch</th>\n",
       "      <th>mchc</th>\n",
       "      <th>mcv</th>\n",
       "      <th>sex</th>\n",
       "      <th>source</th>\n",
       "      <th>f</th>\n",
       "      <th>m</th>\n",
       "    </tr>\n",
       "  </thead>\n",
       "  <tbody>\n",
       "    <tr>\n",
       "      <th>0</th>\n",
       "      <td>normal</td>\n",
       "      <td>rendah</td>\n",
       "      <td>normal</td>\n",
       "      <td>normal</td>\n",
       "      <td>normal</td>\n",
       "      <td>rendah</td>\n",
       "      <td>normal</td>\n",
       "      <td>rendah</td>\n",
       "      <td>f</td>\n",
       "      <td>out</td>\n",
       "      <td>1</td>\n",
       "      <td>0</td>\n",
       "    </tr>\n",
       "    <tr>\n",
       "      <th>1</th>\n",
       "      <td>normal</td>\n",
       "      <td>normal</td>\n",
       "      <td>normal</td>\n",
       "      <td>tinggi</td>\n",
       "      <td>normal</td>\n",
       "      <td>normal</td>\n",
       "      <td>normal</td>\n",
       "      <td>normal</td>\n",
       "      <td>f</td>\n",
       "      <td>out</td>\n",
       "      <td>1</td>\n",
       "      <td>0</td>\n",
       "    </tr>\n",
       "    <tr>\n",
       "      <th>2</th>\n",
       "      <td>rendah</td>\n",
       "      <td>rendah</td>\n",
       "      <td>normal</td>\n",
       "      <td>tinggi</td>\n",
       "      <td>normal</td>\n",
       "      <td>rendah</td>\n",
       "      <td>normal</td>\n",
       "      <td>rendah</td>\n",
       "      <td>f</td>\n",
       "      <td>out</td>\n",
       "      <td>1</td>\n",
       "      <td>0</td>\n",
       "    </tr>\n",
       "    <tr>\n",
       "      <th>3</th>\n",
       "      <td>normal</td>\n",
       "      <td>normal</td>\n",
       "      <td>normal</td>\n",
       "      <td>normal</td>\n",
       "      <td>normal</td>\n",
       "      <td>normal</td>\n",
       "      <td>normal</td>\n",
       "      <td>rendah</td>\n",
       "      <td>f</td>\n",
       "      <td>out</td>\n",
       "      <td>1</td>\n",
       "      <td>0</td>\n",
       "    </tr>\n",
       "    <tr>\n",
       "      <th>4</th>\n",
       "      <td>rendah</td>\n",
       "      <td>rendah</td>\n",
       "      <td>normal</td>\n",
       "      <td>tinggi</td>\n",
       "      <td>normal</td>\n",
       "      <td>rendah</td>\n",
       "      <td>rendah</td>\n",
       "      <td>rendah</td>\n",
       "      <td>f</td>\n",
       "      <td>out</td>\n",
       "      <td>1</td>\n",
       "      <td>0</td>\n",
       "    </tr>\n",
       "  </tbody>\n",
       "</table>\n",
       "</div>"
      ],
      "text/plain": [
       "  haematocrit haemoglobin erythrocyte leucocyte  ... sex source  f  m\n",
       "0      normal      rendah      normal    normal  ...   f    out  1  0\n",
       "1      normal      normal      normal    tinggi  ...   f    out  1  0\n",
       "2      rendah      rendah      normal    tinggi  ...   f    out  1  0\n",
       "3      normal      normal      normal    normal  ...   f    out  1  0\n",
       "4      rendah      rendah      normal    tinggi  ...   f    out  1  0\n",
       "\n",
       "[5 rows x 12 columns]"
      ]
     },
     "execution_count": 17,
     "metadata": {},
     "output_type": "execute_result"
    }
   ],
   "source": [
    "df_patient.head()"
   ]
  },
  {
   "cell_type": "code",
   "execution_count": 8,
   "metadata": {
    "id": "GWnTAwTZVbRl"
   },
   "outputs": [],
   "source": [
    "label = {\n",
    "    'rendah':0,\n",
    "    'normal':1,\n",
    "    'tinggi':2\n",
    "}\n",
    "df_patient['haematocrit'].replace(label, inplace=True)\n",
    "df_patient['haemoglobin'].replace(label, inplace=True)\n",
    "df_patient['erythrocyte'].replace(label, inplace=True)\n",
    "df_patient['leucocyte'].replace(label, inplace=True)\n",
    "df_patient['thrombocyte'].replace(label, inplace=True)\n",
    "df_patient['mch'].replace(label, inplace=True)\n",
    "df_patient['mchc'].replace(label, inplace=True)\n",
    "df_patient['mcv'].replace(label, inplace=True)"
   ]
  },
  {
   "cell_type": "code",
   "execution_count": 9,
   "metadata": {
    "id": "2V7ZuhSPVmSh"
   },
   "outputs": [],
   "source": [
    "from sklearn.tree import DecisionTreeClassifier"
   ]
  },
  {
   "cell_type": "code",
   "execution_count": 10,
   "metadata": {
    "colab": {
     "base_uri": "https://localhost:8080/",
     "height": 414
    },
    "id": "3nnKcbtXVt7i",
    "outputId": "70580dab-935c-4905-90b0-8bf982b7e275"
   },
   "outputs": [
    {
     "data": {
      "text/html": [
       "<div>\n",
       "<style scoped>\n",
       "    .dataframe tbody tr th:only-of-type {\n",
       "        vertical-align: middle;\n",
       "    }\n",
       "\n",
       "    .dataframe tbody tr th {\n",
       "        vertical-align: top;\n",
       "    }\n",
       "\n",
       "    .dataframe thead th {\n",
       "        text-align: right;\n",
       "    }\n",
       "</style>\n",
       "<table border=\"1\" class=\"dataframe\">\n",
       "  <thead>\n",
       "    <tr style=\"text-align: right;\">\n",
       "      <th></th>\n",
       "      <th>haematocrit</th>\n",
       "      <th>haemoglobin</th>\n",
       "      <th>erythrocyte</th>\n",
       "      <th>leucocyte</th>\n",
       "      <th>thrombocyte</th>\n",
       "      <th>mch</th>\n",
       "      <th>mchc</th>\n",
       "      <th>mcv</th>\n",
       "      <th>sex</th>\n",
       "      <th>source</th>\n",
       "    </tr>\n",
       "  </thead>\n",
       "  <tbody>\n",
       "    <tr>\n",
       "      <th>0</th>\n",
       "      <td>1</td>\n",
       "      <td>0</td>\n",
       "      <td>1</td>\n",
       "      <td>1</td>\n",
       "      <td>1</td>\n",
       "      <td>0</td>\n",
       "      <td>1</td>\n",
       "      <td>0</td>\n",
       "      <td>f</td>\n",
       "      <td>out</td>\n",
       "    </tr>\n",
       "    <tr>\n",
       "      <th>1</th>\n",
       "      <td>1</td>\n",
       "      <td>1</td>\n",
       "      <td>1</td>\n",
       "      <td>2</td>\n",
       "      <td>1</td>\n",
       "      <td>1</td>\n",
       "      <td>1</td>\n",
       "      <td>1</td>\n",
       "      <td>f</td>\n",
       "      <td>out</td>\n",
       "    </tr>\n",
       "    <tr>\n",
       "      <th>2</th>\n",
       "      <td>0</td>\n",
       "      <td>0</td>\n",
       "      <td>1</td>\n",
       "      <td>2</td>\n",
       "      <td>1</td>\n",
       "      <td>0</td>\n",
       "      <td>1</td>\n",
       "      <td>0</td>\n",
       "      <td>f</td>\n",
       "      <td>out</td>\n",
       "    </tr>\n",
       "    <tr>\n",
       "      <th>3</th>\n",
       "      <td>1</td>\n",
       "      <td>1</td>\n",
       "      <td>1</td>\n",
       "      <td>1</td>\n",
       "      <td>1</td>\n",
       "      <td>1</td>\n",
       "      <td>1</td>\n",
       "      <td>0</td>\n",
       "      <td>f</td>\n",
       "      <td>out</td>\n",
       "    </tr>\n",
       "    <tr>\n",
       "      <th>4</th>\n",
       "      <td>0</td>\n",
       "      <td>0</td>\n",
       "      <td>1</td>\n",
       "      <td>2</td>\n",
       "      <td>1</td>\n",
       "      <td>0</td>\n",
       "      <td>0</td>\n",
       "      <td>0</td>\n",
       "      <td>f</td>\n",
       "      <td>out</td>\n",
       "    </tr>\n",
       "    <tr>\n",
       "      <th>...</th>\n",
       "      <td>...</td>\n",
       "      <td>...</td>\n",
       "      <td>...</td>\n",
       "      <td>...</td>\n",
       "      <td>...</td>\n",
       "      <td>...</td>\n",
       "      <td>...</td>\n",
       "      <td>...</td>\n",
       "      <td>...</td>\n",
       "      <td>...</td>\n",
       "    </tr>\n",
       "    <tr>\n",
       "      <th>4407</th>\n",
       "      <td>1</td>\n",
       "      <td>1</td>\n",
       "      <td>1</td>\n",
       "      <td>1</td>\n",
       "      <td>0</td>\n",
       "      <td>1</td>\n",
       "      <td>1</td>\n",
       "      <td>1</td>\n",
       "      <td>m</td>\n",
       "      <td>in</td>\n",
       "    </tr>\n",
       "    <tr>\n",
       "      <th>4408</th>\n",
       "      <td>1</td>\n",
       "      <td>1</td>\n",
       "      <td>1</td>\n",
       "      <td>1</td>\n",
       "      <td>0</td>\n",
       "      <td>1</td>\n",
       "      <td>1</td>\n",
       "      <td>1</td>\n",
       "      <td>m</td>\n",
       "      <td>in</td>\n",
       "    </tr>\n",
       "    <tr>\n",
       "      <th>4409</th>\n",
       "      <td>1</td>\n",
       "      <td>1</td>\n",
       "      <td>1</td>\n",
       "      <td>1</td>\n",
       "      <td>1</td>\n",
       "      <td>1</td>\n",
       "      <td>1</td>\n",
       "      <td>1</td>\n",
       "      <td>m</td>\n",
       "      <td>in</td>\n",
       "    </tr>\n",
       "    <tr>\n",
       "      <th>4410</th>\n",
       "      <td>0</td>\n",
       "      <td>0</td>\n",
       "      <td>0</td>\n",
       "      <td>1</td>\n",
       "      <td>1</td>\n",
       "      <td>1</td>\n",
       "      <td>1</td>\n",
       "      <td>1</td>\n",
       "      <td>m</td>\n",
       "      <td>out</td>\n",
       "    </tr>\n",
       "    <tr>\n",
       "      <th>4411</th>\n",
       "      <td>0</td>\n",
       "      <td>0</td>\n",
       "      <td>0</td>\n",
       "      <td>2</td>\n",
       "      <td>1</td>\n",
       "      <td>0</td>\n",
       "      <td>0</td>\n",
       "      <td>0</td>\n",
       "      <td>m</td>\n",
       "      <td>out</td>\n",
       "    </tr>\n",
       "  </tbody>\n",
       "</table>\n",
       "<p>4412 rows × 10 columns</p>\n",
       "</div>"
      ],
      "text/plain": [
       "      haematocrit  haemoglobin  erythrocyte  leucocyte  thrombocyte  mch  \\\n",
       "0               1            0            1          1            1    0   \n",
       "1               1            1            1          2            1    1   \n",
       "2               0            0            1          2            1    0   \n",
       "3               1            1            1          1            1    1   \n",
       "4               0            0            1          2            1    0   \n",
       "...           ...          ...          ...        ...          ...  ...   \n",
       "4407            1            1            1          1            0    1   \n",
       "4408            1            1            1          1            0    1   \n",
       "4409            1            1            1          1            1    1   \n",
       "4410            0            0            0          1            1    1   \n",
       "4411            0            0            0          2            1    0   \n",
       "\n",
       "      mchc  mcv sex source  \n",
       "0        1    0   f    out  \n",
       "1        1    1   f    out  \n",
       "2        1    0   f    out  \n",
       "3        1    0   f    out  \n",
       "4        0    0   f    out  \n",
       "...    ...  ...  ..    ...  \n",
       "4407     1    1   m     in  \n",
       "4408     1    1   m     in  \n",
       "4409     1    1   m     in  \n",
       "4410     1    1   m    out  \n",
       "4411     0    0   m    out  \n",
       "\n",
       "[4412 rows x 10 columns]"
      ]
     },
     "execution_count": 10,
     "metadata": {},
     "output_type": "execute_result"
    }
   ],
   "source": [
    "df_patient"
   ]
  },
  {
   "cell_type": "code",
   "execution_count": null,
   "metadata": {
    "id": "oR-ax6vEVvsg"
   },
   "outputs": [],
   "source": [
    "x = df_patient[['haematocrit', 'haemoglobin', 'erythrocyte', 'leucocyte', 'thrombocyte', 'mch', 'mchc', 'mcv', 'f', 'm']]\n",
    "y = df_patient['source']"
   ]
  },
  {
   "cell_type": "code",
   "execution_count": null,
   "metadata": {
    "colab": {
     "base_uri": "https://localhost:8080/"
    },
    "id": "iNIuADLqV6pD",
    "outputId": "da6786ea-de47-4d80-f015-904574ca1c56"
   },
   "outputs": [
    {
     "data": {
      "text/plain": [
       "DecisionTreeClassifier(ccp_alpha=0.0, class_weight=None, criterion='gini',\n",
       "                       max_depth=None, max_features=None, max_leaf_nodes=None,\n",
       "                       min_impurity_decrease=0.0, min_impurity_split=None,\n",
       "                       min_samples_leaf=1, min_samples_split=2,\n",
       "                       min_weight_fraction_leaf=0.0, presort='deprecated',\n",
       "                       random_state=None, splitter='best')"
      ]
     },
     "execution_count": 22,
     "metadata": {},
     "output_type": "execute_result"
    }
   ],
   "source": [
    "from sklearn.model_selection import train_test_split\n",
    "from sklearn.metrics import accuracy_score, confusion_matrix, classification_report\n",
    "from sklearn.tree import DecisionTreeClassifier\n",
    " \n",
    "xtrain, xtest, ytrain, ytest = train_test_split(x, y, test_size=0.3)\n",
    "tree_data = DecisionTreeClassifier()\n",
    "tree_data.fit(xtest, ytest)"
   ]
  },
  {
   "cell_type": "code",
   "execution_count": null,
   "metadata": {
    "colab": {
     "base_uri": "https://localhost:8080/"
    },
    "id": "eGvo6E_7V-V3",
    "outputId": "5d4b18c5-cc7e-433a-f23a-51668a2f7859"
   },
   "outputs": [
    {
     "name": "stdout",
     "output_type": "stream",
     "text": [
      "Akurasi pada saat testing =  0.6926813471502591\n"
     ]
    }
   ],
   "source": [
    "print(\"Akurasi pada saat testing = \", tree_data.score(xtrain, ytrain))"
   ]
  },
  {
   "cell_type": "code",
   "execution_count": null,
   "metadata": {
    "colab": {
     "base_uri": "https://localhost:8080/"
    },
    "id": "OOsGP0DIWD-H",
    "outputId": "39e5eb11-550c-4c36-c4e6-a735206d45ff"
   },
   "outputs": [
    {
     "data": {
      "text/plain": [
       "array(['in'], dtype=object)"
      ]
     },
     "execution_count": 24,
     "metadata": {},
     "output_type": "execute_result"
    }
   ],
   "source": [
    "tree_data.predict([[0, 0, 0, 0, 0, 0, 0, 0, 1, 0]])"
   ]
  },
  {
   "cell_type": "code",
   "execution_count": null,
   "metadata": {
    "colab": {
     "base_uri": "https://localhost:8080/"
    },
    "id": "cSsrx7N7jNt7",
    "outputId": "4067dd0d-866b-4edf-c2fe-c7cac3a8d8ee"
   },
   "outputs": [
    {
     "data": {
      "text/plain": [
       "array(['out'], dtype=object)"
      ]
     },
     "execution_count": 25,
     "metadata": {},
     "output_type": "execute_result"
    }
   ],
   "source": [
    "tree_data.predict([[1, 1, 1, 1, 1, 1, 1, 1, 1, 0]])"
   ]
  },
  {
   "cell_type": "code",
   "execution_count": null,
   "metadata": {
    "id": "IG_8hSxKjQXf"
   },
   "outputs": [],
   "source": [
    "import pickle\n",
    "with open('model.pkl', 'wb') as model_file:\n",
    "  pickle.dump(tree_data, model_file)\n",
    "  "
   ]
  },
  {
   "cell_type": "code",
   "execution_count": null,
   "metadata": {
    "colab": {
     "base_uri": "https://localhost:8080/",
     "height": 244
    },
    "id": "vz7ft0z3qdWi",
    "outputId": "7c7fd1c4-6e06-475c-8f1a-401f69ae18e2"
   },
   "outputs": [
    {
     "ename": "KeyboardInterrupt",
     "evalue": "ignored",
     "output_type": "error",
     "traceback": [
      "\u001b[0;31m---------------------------------------------------------------------------\u001b[0m",
      "\u001b[0;31mKeyboardInterrupt\u001b[0m                         Traceback (most recent call last)",
      "\u001b[0;32m<ipython-input-30-95cac3476493>\u001b[0m in \u001b[0;36m<module>\u001b[0;34m()\u001b[0m\n\u001b[0;32m----> 1\u001b[0;31m \u001b[0manvil\u001b[0m\u001b[0;34m.\u001b[0m\u001b[0mserver\u001b[0m\u001b[0;34m.\u001b[0m\u001b[0mwait_forever\u001b[0m\u001b[0;34m(\u001b[0m\u001b[0;34m)\u001b[0m\u001b[0;34m\u001b[0m\u001b[0;34m\u001b[0m\u001b[0m\n\u001b[0m",
      "\u001b[0;32m/usr/local/lib/python3.7/dist-packages/anvil/server.py\u001b[0m in \u001b[0;36mwait_forever\u001b[0;34m()\u001b[0m\n\u001b[1;32m    422\u001b[0m     \u001b[0m_get_connection\u001b[0m\u001b[0;34m(\u001b[0m\u001b[0;34m)\u001b[0m\u001b[0;34m\u001b[0m\u001b[0;34m\u001b[0m\u001b[0m\n\u001b[1;32m    423\u001b[0m     \u001b[0;32mwhile\u001b[0m \u001b[0;32mTrue\u001b[0m\u001b[0;34m:\u001b[0m\u001b[0;34m\u001b[0m\u001b[0;34m\u001b[0m\u001b[0m\n\u001b[0;32m--> 424\u001b[0;31m         \u001b[0mtime\u001b[0m\u001b[0;34m.\u001b[0m\u001b[0msleep\u001b[0m\u001b[0;34m(\u001b[0m\u001b[0;36m1\u001b[0m\u001b[0;34m)\u001b[0m\u001b[0;34m\u001b[0m\u001b[0;34m\u001b[0m\u001b[0m\n\u001b[0m",
      "\u001b[0;31mKeyboardInterrupt\u001b[0m: "
     ]
    }
   ],
   "source": [
    "# @anvil.server.callable\n",
    "# def predict_patient(haematocrit, haemoglobins, erythrocyte, leucocyte, thrombocyte, mch, mchc, mcv, 0, 1) :\n",
    "#   klasifikasi = tree_data.predict([[haematocrit, haemoglobins, erythrocyte, leucocyte, thrombocyte, mch, mchc, mcv, 0, 1]])\n",
    "#   tes = print(klasifikasi)\n",
    "#   return tes() \n",
    "#   anvil.server.wait_forever()\n",
    "\n",
    "anvil.server.wait_forever()"
   ]
  },
  {
   "cell_type": "code",
   "execution_count": null,
   "metadata": {
    "id": "A51BBIwWq1IW"
   },
   "outputs": [],
   "source": []
  }
 ],
 "metadata": {
  "colab": {
   "collapsed_sections": [],
   "name": "Salinan dari Hematologi",
   "provenance": []
  },
  "kernelspec": {
   "display_name": "Python 3",
   "language": "python",
   "name": "python3"
  },
  "language_info": {
   "codemirror_mode": {
    "name": "ipython",
    "version": 3
   },
   "file_extension": ".py",
   "mimetype": "text/x-python",
   "name": "python",
   "nbconvert_exporter": "python",
   "pygments_lexer": "ipython3",
   "version": "3.8.8"
  }
 },
 "nbformat": 4,
 "nbformat_minor": 1
}
